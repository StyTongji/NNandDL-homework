{
 "cells": [
  {
   "cell_type": "markdown",
   "metadata": {},
   "source": [
    "## 准备数据"
   ]
  },
  {
   "cell_type": "code",
   "execution_count": 2,
   "metadata": {},
   "outputs": [],
   "source": [
    "import os\n",
    "import numpy as np\n",
    "import tensorflow as tf\n",
    "from tensorflow import keras\n",
    "from keras import layers, optimizers, datasets\n",
    "\n",
    "os.environ['TF_CPP_MIN_LOG_LEVEL'] = '2'  # or any {'0', '1', '2'}\n",
    "\n",
    "def mnist_dataset():\n",
    "    (x, y), (x_test, y_test) = datasets.mnist.load_data()\n",
    "    #normalize\n",
    "    x = x/255.0\n",
    "    x_test = x_test/255.0\n",
    "    \n",
    "    return (x, y), (x_test, y_test)"
   ]
  },
  {
   "cell_type": "code",
   "execution_count": 3,
   "metadata": {},
   "outputs": [
    {
     "name": "stdout",
     "output_type": "stream",
     "text": [
      "[(1, 'a'), (2, 'b'), (3, 'c'), (4, 'd')]\n"
     ]
    }
   ],
   "source": [
    "print(list(zip([1, 2, 3, 4], ['a', 'b', 'c', 'd'])))"
   ]
  },
  {
   "cell_type": "markdown",
   "metadata": {},
   "source": [
    "## 建立模型"
   ]
  },
  {
   "cell_type": "code",
   "execution_count": 69,
   "metadata": {},
   "outputs": [],
   "source": [
    "class myModel:\n",
    "    def __init__(self):\n",
    "        ####################\n",
    "        '''声明模型对应的参数'''\n",
    "        ####################\n",
    "        self.input_dim=28*28\n",
    "        pnum1=128\n",
    "        pnum2=10\n",
    "        self.W1 = tf.Variable(tf.random.truncated_normal([self.input_dim, pnum1], stddev=0.02))\n",
    "        self.b1 = tf.Variable(tf.ones([pnum1]))\n",
    "        self.W2 = tf.Variable(tf.random.truncated_normal([pnum1, pnum2], stddev=0.03))\n",
    "        self.b2 = tf.Variable(tf.ones([pnum2]))\n",
    "        self.Relu = layers.ReLU()\n",
    "        \n",
    "        \n",
    "        \n",
    "    def __call__(self, x):\n",
    "        ####################\n",
    "        '''实现模型函数体，返回未归一化的logits'''\n",
    "        ####################\n",
    "        x = tf.reshape(x, [-1, self.input_dim])\n",
    "        x = tf.matmul(x, self.W1) + self.b1\n",
    "        x = self.Relu(x)\n",
    "        x = tf.matmul(x, self.W2) + self.b2\n",
    "        logits = self.Relu(x)\n",
    "        \n",
    "        \n",
    "    \n",
    "        return logits\n",
    "        \n",
    "model = myModel()\n",
    "\n",
    "optimizer = optimizers.Adam()"
   ]
  },
  {
   "cell_type": "markdown",
   "metadata": {},
   "source": [
    "## 计算 loss"
   ]
  },
  {
   "cell_type": "code",
   "execution_count": 70,
   "metadata": {},
   "outputs": [],
   "source": [
    "@tf.function\n",
    "def compute_loss(logits, labels):\n",
    "    return tf.reduce_mean(\n",
    "        tf.nn.sparse_softmax_cross_entropy_with_logits(\n",
    "            logits=logits, labels=labels))\n",
    "\n",
    "@tf.function\n",
    "def compute_accuracy(logits, labels):\n",
    "    predictions = tf.argmax(logits, axis=1)\n",
    "    return tf.reduce_mean(tf.cast(tf.equal(predictions, labels), tf.float32))\n",
    "\n",
    "@tf.function\n",
    "def train_one_step(model, optimizer, x, y):\n",
    "    with tf.GradientTape() as tape:\n",
    "        logits = model(x)\n",
    "        loss = compute_loss(logits, y)\n",
    "\n",
    "    # compute gradient\n",
    "    trainable_vars = [model.W1, model.W2, model.b1, model.b2]\n",
    "    grads = tape.gradient(loss, trainable_vars)\n",
    "    for g, v in zip(grads, trainable_vars):\n",
    "        v.assign_sub(0.01*g)\n",
    "\n",
    "    accuracy = compute_accuracy(logits, y)\n",
    "\n",
    "    # loss and accuracy is scalar tensor\n",
    "    return loss, accuracy\n",
    "\n",
    "@tf.function\n",
    "def test(model, x, y):\n",
    "    logits = model(x)\n",
    "    loss = compute_loss(logits, y)\n",
    "    accuracy = compute_accuracy(logits, y)\n",
    "    return loss, accuracy"
   ]
  },
  {
   "cell_type": "markdown",
   "metadata": {},
   "source": [
    "## 实际训练"
   ]
  },
  {
   "cell_type": "code",
   "execution_count": 77,
   "metadata": {},
   "outputs": [
    {
     "name": "stdout",
     "output_type": "stream",
     "text": [
      "epoch 0 : loss 0.93591386 ; accuracy 0.80728334\n",
      "epoch 1 : loss 0.9345013 ; accuracy 0.8075167\n",
      "epoch 2 : loss 0.9330937 ; accuracy 0.80771667\n",
      "epoch 3 : loss 0.9316913 ; accuracy 0.808\n",
      "epoch 4 : loss 0.93029404 ; accuracy 0.80826664\n",
      "epoch 5 : loss 0.9289017 ; accuracy 0.8084\n",
      "epoch 6 : loss 0.9275143 ; accuracy 0.8086\n",
      "epoch 7 : loss 0.926132 ; accuracy 0.80883336\n",
      "epoch 8 : loss 0.9247547 ; accuracy 0.8089667\n",
      "epoch 9 : loss 0.9233823 ; accuracy 0.80916667\n",
      "epoch 10 : loss 0.92201483 ; accuracy 0.8093\n",
      "epoch 11 : loss 0.9206524 ; accuracy 0.80946666\n",
      "epoch 12 : loss 0.9192948 ; accuracy 0.8096167\n",
      "epoch 13 : loss 0.9179421 ; accuracy 0.80973333\n",
      "epoch 14 : loss 0.91659427 ; accuracy 0.80995\n",
      "epoch 15 : loss 0.9152513 ; accuracy 0.81016666\n",
      "epoch 16 : loss 0.91391313 ; accuracy 0.81035\n",
      "epoch 17 : loss 0.91257983 ; accuracy 0.81045\n",
      "epoch 18 : loss 0.9112513 ; accuracy 0.81056666\n",
      "epoch 19 : loss 0.9099275 ; accuracy 0.8107167\n",
      "epoch 20 : loss 0.90860844 ; accuracy 0.8108\n",
      "epoch 21 : loss 0.9072942 ; accuracy 0.811\n",
      "epoch 22 : loss 0.9059846 ; accuracy 0.8111167\n",
      "epoch 23 : loss 0.9046797 ; accuracy 0.81125\n",
      "epoch 24 : loss 0.9033794 ; accuracy 0.8113833\n",
      "epoch 25 : loss 0.9020837 ; accuracy 0.81158334\n",
      "epoch 26 : loss 0.9007927 ; accuracy 0.8117167\n",
      "epoch 27 : loss 0.8995062 ; accuracy 0.8118167\n",
      "epoch 28 : loss 0.89822435 ; accuracy 0.81186664\n",
      "epoch 29 : loss 0.8969471 ; accuracy 0.81193334\n",
      "epoch 30 : loss 0.89567435 ; accuracy 0.8122333\n",
      "epoch 31 : loss 0.89440614 ; accuracy 0.81231666\n",
      "epoch 32 : loss 0.89314246 ; accuracy 0.8125333\n",
      "epoch 33 : loss 0.8918832 ; accuracy 0.81275\n",
      "epoch 34 : loss 0.89062846 ; accuracy 0.8129333\n",
      "epoch 35 : loss 0.88937813 ; accuracy 0.81311667\n",
      "epoch 36 : loss 0.8881323 ; accuracy 0.8132667\n",
      "epoch 37 : loss 0.8868908 ; accuracy 0.81338334\n",
      "epoch 38 : loss 0.8856538 ; accuracy 0.8137\n",
      "epoch 39 : loss 0.88442105 ; accuracy 0.81376666\n",
      "epoch 40 : loss 0.8831927 ; accuracy 0.8139833\n",
      "epoch 41 : loss 0.8819687 ; accuracy 0.8142167\n",
      "epoch 42 : loss 0.880749 ; accuracy 0.81445\n",
      "epoch 43 : loss 0.8795336 ; accuracy 0.8146333\n",
      "epoch 44 : loss 0.8783224 ; accuracy 0.8149\n",
      "epoch 45 : loss 0.8771156 ; accuracy 0.8149833\n",
      "epoch 46 : loss 0.8759129 ; accuracy 0.81525\n",
      "epoch 47 : loss 0.87471443 ; accuracy 0.8154\n",
      "epoch 48 : loss 0.8735202 ; accuracy 0.8156\n",
      "epoch 49 : loss 0.8723302 ; accuracy 0.8157667\n",
      "test loss 0.8514967 ; accuracy 0.8222\n"
     ]
    }
   ],
   "source": [
    "train_data, test_data = mnist_dataset()\n",
    "for epoch in range(50):\n",
    "    loss, accuracy = train_one_step(model, optimizer, \n",
    "                                    tf.constant(train_data[0], dtype=tf.float32), \n",
    "                                    tf.constant(train_data[1], dtype=tf.int64))\n",
    "    print('epoch', epoch, ': loss', loss.numpy(), '; accuracy', accuracy.numpy())\n",
    "loss, accuracy = test(model, \n",
    "                      tf.constant(test_data[0], dtype=tf.float32), \n",
    "                      tf.constant(test_data[1], dtype=tf.int64))\n",
    "\n",
    "print('test loss', loss.numpy(), '; accuracy', accuracy.numpy())"
   ]
  },
  {
   "cell_type": "code",
   "execution_count": null,
   "metadata": {},
   "outputs": [],
   "source": []
  }
 ],
 "metadata": {
  "kernelspec": {
   "display_name": "tf_env",
   "language": "python",
   "name": "python3"
  },
  "language_info": {
   "codemirror_mode": {
    "name": "ipython",
    "version": 3
   },
   "file_extension": ".py",
   "mimetype": "text/x-python",
   "name": "python",
   "nbconvert_exporter": "python",
   "pygments_lexer": "ipython3",
   "version": "3.8.19"
  }
 },
 "nbformat": 4,
 "nbformat_minor": 2
}
